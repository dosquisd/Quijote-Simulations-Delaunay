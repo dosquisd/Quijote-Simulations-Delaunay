{
 "cells": [
  {
   "cell_type": "markdown",
   "metadata": {
    "id": "IbI5HiP8OFBc"
   },
   "source": [
    "Este colab es únicamente utilizado para crear los grafos a partir de los datos de FoF.\n",
    "\n",
    "Hola, besos <3."
   ]
  },
  {
   "cell_type": "code",
   "execution_count": null,
   "metadata": {
    "executionInfo": {
     "elapsed": 1142,
     "status": "ok",
     "timestamp": 1738799365228,
     "user": {
      "displayName": "juan navarro",
      "userId": "04439387566352878296"
     },
     "user_tz": 300
    },
    "id": "lctTOWwcvfhP"
   },
   "outputs": [],
   "source": [
    "import os\n",
    "import time\n",
    "import numpy as np\n",
    "import networkx as nx\n",
    "import igraph as ig\n",
    "from scipy.spatial import Delaunay\n",
    "from typing import Literal\n",
    "import readfof  # Este modulo es de Pylians\n",
    "\n",
    "\n",
    "fof_root: str = f\"./quijote/FoF\"\n",
    "graphs_root: str = f\"./quijote/grafos\"\n",
    "snapnums: list = [0, 1, 2, 3, 4]\n",
    "z_dict: dict[int, float] = {4: 0.0, 3: 0.5, 2: 1.0, 1: 2.0, 0: 3.0}\n",
    "\n",
    "\n",
    "def distance(point1: list, point2: list) -> float:\n",
    "    \"\"\" Calcula la distancia entre dos puntos de la misma dimensión \"\"\"\n",
    "    assert len(point1) == len(point2), \"El tamaño debe ser el mismo, gilipollas...\"\n",
    "    return np.sqrt(sum((p1 - p2)**2 for p1, p2 in zip(point1, point2)))\n",
    "\n",
    "\n",
    "def tolist(G: nx.Graph, node, prefix: Literal['', 'v'] = '') -> list:\n",
    "    \"\"\" En el grafo G (son los que se están guardando como archivos) hay atributos que\n",
    "    son originalmente vectores (caso de la velocidad y la posición de los halos), y\n",
    "    para esos casos, los atributos para cada uno de los nodos fue representado de la\n",
    "    siguiente manera:\n",
    "\n",
    "    Para el caso de la posición, los atributos se descomponieron en `x`, `y` y `z`.\n",
    "    Para el caso de la velocidad, los atributos se descomponieron en `vx`, `vy` y `vz`.\n",
    "\n",
    "    Entonces, lo que realiza la función es que dado un nodo (`node`) de uno de esos grafos (`G`)\n",
    "    que estamos guardando en archivos, crea su respectiva lista de las posiciones (`prefix=''`) o\n",
    "    las velocidades (`prefix='v`).\n",
    "\n",
    "    Hasta el momento, `prefix` únicamente puede tomar esos valores, puesto que esos son los únicos\n",
    "    que son guardados en listas \"\"\"\n",
    "    return [G.nodes[node][f'{prefix}{i}'] for i in ('x', 'y', 'z')]\n",
    "\n",
    "\n",
    "assert os.path.exists(fof_root)\n",
    "assert os.path.exists(graphs_root)"
   ]
  },
  {
   "cell_type": "markdown",
   "metadata": {
    "id": "rZG9QZKgKYZb"
   },
   "source": [
    "## Guardar Grafo"
   ]
  },
  {
   "cell_type": "code",
   "execution_count": null,
   "metadata": {
    "colab": {
     "base_uri": "https://localhost:8080/"
    },
    "executionInfo": {
     "elapsed": 143498,
     "status": "ok",
     "timestamp": 1738800309798,
     "user": {
      "displayName": "juan navarro",
      "userId": "04439387566352878296"
     },
     "user_tz": 300
    },
    "id": "2thlYfzKviQc",
    "outputId": "85bf5140-f193-4853-baae-02e8ef367cd4"
   },
   "outputs": [],
   "source": [
    "def save_graph(FoF, snapnum, save_path) -> None:\n",
    "    redshift = z_dict[snapnum]\n",
    "\n",
    "    pos_h = FoF.GroupPos / 1e3               # Posición de los halos en Mpc/h\n",
    "    mass  = FoF.GroupMass * 1e10             # Masa de los halos en Msun/h\n",
    "    vel_h = FoF.GroupVel * (1.0 + redshift)  # Velocidad particulas de los halos km/s\n",
    "    Npart = FoF.GroupLen                     # Número de partículas CDM en los halos\n",
    "\n",
    "    t0 = time.perf_counter()\n",
    "    delaunay3d = Delaunay(pos_h)\n",
    "    simplices3d = delaunay3d.simplices\n",
    "    t1 = time.perf_counter()-t0\n",
    "\n",
    "    G = nx.Graph()\n",
    "\n",
    "    t0 = time.perf_counter()\n",
    "    for i, point in enumerate(pos_h):\n",
    "        pos, vel = point, vel_h[i]\n",
    "\n",
    "        G.add_node(i, x=pos[0], y=pos[1], z=pos[2],\n",
    "                vx=vel[0], vy=vel[1], vz=vel[2],\n",
    "                mass=mass[i], npart=Npart[i])\n",
    "    t2 = time.perf_counter()-t0\n",
    "\n",
    "    t0 = time.perf_counter()\n",
    "    for path in simplices3d.tolist():\n",
    "        path.append(path[0])\n",
    "        nx.add_path(G, path)\n",
    "    t3 = time.perf_counter()-t0\n",
    "\n",
    "    t0 = time.perf_counter()\n",
    "    distances = {edge: distance(tolist(G, edge[0]), tolist(G, edge[1])) for edge in G.edges}\n",
    "    nx.set_edge_attributes(G, values=distances, name='distance')\n",
    "    t4 = time.perf_counter()-t0\n",
    "\n",
    "    print(f'Tiempo total: {t1+t2+t3+t4} s')\n",
    "\n",
    "    nx.write_graphml(G, save_path)\n",
    "\n",
    "\n",
    "for simu in os.listdir(fof_root):\n",
    "    # Ruta del archivo de la simulaciones\n",
    "    fof_tmp_path = f'{fof_root}/{simu}'\n",
    "\n",
    "    # Crear el respectivo para el grafo en caso de no estar\n",
    "    graph_tmp_path = f'{graphs_root}/{simu}'\n",
    "    if not os.path.exists(graph_tmp_path):\n",
    "        os.mkdir(graph_tmp_path)\n",
    "\n",
    "    # Iterar sobre las muestras de cada simulación\n",
    "    for i in os.listdir(fof_tmp_path):\n",
    "        snapdir = f'{fof_tmp_path}/{i}'\n",
    "\n",
    "        graph_tmp_path_i = f'{graph_tmp_path}/{i}'\n",
    "        if not os.path.exists(graph_tmp_path_i):\n",
    "            os.mkdir(graph_tmp_path_i)\n",
    "\n",
    "        # Iterar sobre todos los snapnums descargados en la carpeta de FoF\n",
    "        for snapnum in snapnums:\n",
    "            # Si ya existe el archivo, se lo salta. Para evitar trabajo doble\n",
    "            graph_path = f'{graph_tmp_path_i}/{simu}_{snapnum:03}.graphml'\n",
    "            if os.path.exists(graph_path):\n",
    "                continue\n",
    "\n",
    "            # Crea los grafos solo en los archivos que no tienen uno asignado\n",
    "            try:\n",
    "                FoF = readfof.FoF_catalog(snapdir, snapnum, read_IDs=False)\n",
    "            except FileNotFoundError:\n",
    "                continue\n",
    "            print(f'{graph_path}  ---  ', end='')\n",
    "            save_graph(FoF, snapnum, graph_path)\n",
    "    print()"
   ]
  },
  {
   "cell_type": "markdown",
   "metadata": {
    "id": "4unN1FqHfUvW"
   },
   "source": [
    "## Guardar grafos aleatorios"
   ]
  },
  {
   "cell_type": "code",
   "execution_count": null,
   "metadata": {
    "id": "gZIb08JrfY1L"
   },
   "outputs": [],
   "source": [
    "def generate_random_points(n: int, value_min: float, value_max: float) -> np.ndarray:\n",
    "    \"\"\"\n",
    "    Genera un arreglo de n puntos tridimensionales aleatorios\n",
    "\n",
    "    Args:\n",
    "        n (int): Cantidad de puntos\n",
    "\n",
    "    Returns:\n",
    "        numpy.ndarray: Arreglo de n puntos tridimensionales.\n",
    "    \"\"\"\n",
    "    return np.random.uniform(value_min, value_max, (n, 3))"
   ]
  },
  {
   "cell_type": "code",
   "execution_count": null,
   "metadata": {
    "colab": {
     "base_uri": "https://localhost:8080/"
    },
    "executionInfo": {
     "elapsed": 667046,
     "status": "ok",
     "timestamp": 1727897249867,
     "user": {
      "displayName": "juan navarro",
      "userId": "04439387566352878296"
     },
     "user_tz": 300
    },
    "id": "mn_VA-tziL1n",
    "outputId": "0502bf51-c8b5-41f6-fd37-3014e08298d2"
   },
   "outputs": [],
   "source": [
    "# Cantidad máxima de nodos por cada snapnum\n",
    "max_nodes_snapnums = np.array([5252, 46546, 201193, 315211, 410006])\n",
    "\n",
    "for snapnum, n in enumerate(max_nodes_snapnums):\n",
    "    graph_path = f'{graphs_root}/random_{snapnum:03}.graphml'\n",
    "    pos = generate_random_points(int(n * 1.5), 0, 1000)\n",
    "    print(f'{graph_path}  ---  ', end='')\n",
    "\n",
    "    t0 = time.perf_counter()\n",
    "    delaunay3d = Delaunay(pos)\n",
    "    simplices3d = delaunay3d.simplices\n",
    "    t1 = time.perf_counter()-t0\n",
    "\n",
    "    G = nx.Graph()\n",
    "\n",
    "    t0 = time.perf_counter()\n",
    "    for i, point in enumerate(pos):\n",
    "        pos = point\n",
    "        G.add_node(i, x=pos[0], y=pos[1], z=pos[2])\n",
    "    t2 = time.perf_counter()-t0\n",
    "\n",
    "    t0 = time.perf_counter()\n",
    "    for path in simplices3d.tolist():\n",
    "        path.append(path[0])\n",
    "        nx.add_path(G, path)\n",
    "    t3 = time.perf_counter()-t0\n",
    "\n",
    "    t0 = time.perf_counter()\n",
    "    distances = {edge: distance(tolist(G, edge[0]), tolist(G, edge[1])) for edge in G.edges}\n",
    "    nx.set_edge_attributes(G, values=distances, name='distance')\n",
    "    t4 = time.perf_counter()-t0\n",
    "\n",
    "    nx.write_graphml(G, graph_path)\n",
    "\n",
    "    print(f'Tiempo total: {t1+t2+t3+t4} s')\n"
   ]
  },
  {
   "cell_type": "code",
   "execution_count": null,
   "metadata": {
    "id": "j1JmOB3RqJKw"
   },
   "outputs": [],
   "source": []
  }
 ],
 "metadata": {
  "colab": {
   "provenance": []
  },
  "kernelspec": {
   "display_name": ".venv",
   "language": "python",
   "name": "python3"
  },
  "language_info": {
   "codemirror_mode": {
    "name": "ipython",
    "version": 3
   },
   "file_extension": ".py",
   "mimetype": "text/x-python",
   "name": "python",
   "nbconvert_exporter": "python",
   "pygments_lexer": "ipython3",
   "version": "3.12.8"
  }
 },
 "nbformat": 4,
 "nbformat_minor": 0
}
